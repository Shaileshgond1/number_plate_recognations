
import numpy as np 
import pandas as pd
import matplotlib.pyplot as plt
import cv2

from os import listdir

names = listdir('./imgs/')
def data_store(path):
    X_1 = []
    y_1 = []
    for i in listdir(path) :
        for j in listdir(path+i) :
            img = cv2.imread(path+i+'/'+j)
            img = cv2.resize(img ,(200,200))
            X_1.append(img)
            y_1.append(i)
            
    return X_1 , y_1
X_train , y_train = data_store('./imgs/')
photo =X_train[400]
plt.imshow(photo)


y_train_cat = pd.get_dummies(y_train)
y_train_cat


y_train_cat.shape
X_train_real=np.array(X_train)
X_train_real.shape

from keras.models import Sequential
from keras.layers import Dense, Dropout, Activation, Flatten
from keras.layers import Conv2D, MaxPooling2D, ZeroPadding2D
from keras.layers.normalization import BatchNormalization
from keras.regularizers import l2
import keras

# create model
model = Sequential()

# 2 sets of CRP (Convolution, RELU, Pooling)
model.add(Conv2D(20, (5, 5),
                 padding = "same", 
                 input_shape=(200,200,3)))
model.add(Activation("relu"))
model.add(MaxPooling2D(pool_size = (2, 2) ))

model.add(Conv2D(50, (5, 5),
                 padding = "same"))
model.add(Activation("relu"))
model.add(MaxPooling2D(pool_size = (2, 2), strides = (2, 2)))

# Fully connected layers (w/ RELU)
model.add(Flatten())
          
# FC NN
model.add(Dense(500))
model.add(Activation("relu"))

# Softmax (for classification)
model.add(Dense(50))
model.add(Activation("softmax"))
           
model.compile(loss = 'categorical_crossentropy',
              optimizer = keras.optimizers.Adadelta(),
              metrics = ['accuracy'])
    
print(model.summary())



model.fit(X_train_real , y_train_cat,epochs=50)
model.save('200X200_car.h5')

test = cv2.imread('./imgs/Audi/Audi_060.jpg')
test = cv2.resize(test ,(200,200))
test = test.reshape(1,200,200,3)

p = model.predict(test)
count = 0
result=[]
p=p.reshape(50,1)

def find_max( list ):
    max = list[ 0 ]

    k=0
    for a in list:
        if a > max:
            max = a
            b=k
        k=k+1    
    return max , b

result , call = find_max(p)

result
names[call]
result

p[0]

k =0
def find_max( list ):
    max = list[ 0 ]
    k=0
    for a in list:
        if a > max:
            max = a
            b=k
        k=k+1    
    return max , b

result , b = find_max(p)

result
type(p)
p[0]
call
names[b]
p
