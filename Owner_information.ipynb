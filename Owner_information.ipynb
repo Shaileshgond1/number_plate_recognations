import requests
import xmltodict
import json

def get_vehicle_info(plate_number):
    r = requests.get("http://www.regcheck.org.uk/api/reg.asmx/CheckIndia?RegistrationNumber={0}&username=krrish2021".format(str(plate_number)))
    data = xmltodict.parse(r.content)
    jdata = json.dumps(data)
    df = json.loads(jdata)
    df1 = json.loads(df['Vehicle']['vehicleJson'])
    return df1
information = get_vehicle_info('MH24AZ1336')

type(information)

information


o=information['Owner']
print("Owner Name : " +o)
i = information["Description"]

print('Description:'+i+'\n','Owner Name:'+o)
